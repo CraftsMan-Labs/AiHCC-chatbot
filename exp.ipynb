{
 "cells": [
  {
   "cell_type": "code",
   "execution_count": 6,
   "metadata": {},
   "outputs": [],
   "source": [
    "from exa_py import Exa\n",
    "import os\n",
    "import dotenv\n",
    "\n",
    "dotenv.load_dotenv()\n",
    "\n",
    "exa = Exa(api_key=os.environ['EXA_API_KEY'])"
   ]
  },
  {
   "cell_type": "code",
   "execution_count": 7,
   "metadata": {},
   "outputs": [],
   "source": [
    "results = exa.search(\"This is a Exa query:\")"
   ]
  },
  {
   "cell_type": "code",
   "execution_count": 10,
   "metadata": {},
   "outputs": [
    {
     "data": {
      "text/plain": [
       "{'results': [Result(url='https://query.wikidata.org/', id='https://query.wikidata.org/', title='Explorer', score=0.13523532450199127, published_date=None, author=None, text=None, highlights=None, highlight_scores=None),\n",
       "  Result(url='https://www.wikidata.org/wiki/Wikidata:SPARQL_query_service/queries/examples/eu', id='https://www.wikidata.org/wiki/Wikidata:SPARQL_query_service/queries/examples/eu', title='Wikidata:SPARQL query service/queries/examples', score=0.12925030291080475, published_date='2023-01-18', author='Wikisource pages', text=None, highlights=None, highlight_scores=None),\n",
       "  Result(url='https://www.wikidata.org/wiki/Wikidata:SPARQL_query_service/queries/examples/pl', id='https://www.wikidata.org/wiki/Wikidata:SPARQL_query_service/queries/examples/pl', title='Wikidata:SPARQL query service/queries/examples/pl', score=0.1263091117143631, published_date='2023-01-29', author='Items about authors', text=None, highlights=None, highlight_scores=None),\n",
       "  Result(url='https://www.wikidata.org/wiki/Wikidata:SPARQL_query_service/queries/examples/vec', id='https://www.wikidata.org/wiki/Wikidata:SPARQL_query_service/queries/examples/vec', title='Wikidata:Servìsio de interogasion SPARQL/interogasion/ezenpi', score=0.12518663704395294, published_date='2023-02-16', author='Items about authors', text=None, highlights=None, highlight_scores=None),\n",
       "  Result(url='https://hackage.haskell.org/package/esqueleto-3.4.0.1/docs/Database-Esqueleto-Internal-Internal.html#t:SqlExpr', id='https://hackage.haskell.org/package/esqueleto-3.4.0.1/docs/Database-Esqueleto-Internal-Internal.html#t:SqlExpr', title='Documentation', score=0.12511803209781647, published_date='2010-03-01', author=None, text=None, highlights=None, highlight_scores=None),\n",
       "  Result(url='https://phabricator.wikimedia.org/transactions/detail/PHID-XACT-TASK-6ux2inxgvvhuca6/', id='https://phabricator.wikimedia.org/transactions/detail/PHID-XACT-TASK-6ux2inxgvvhuca6/', title='Change Details', score=0.12323665618896484, published_date=None, author=None, text=None, highlights=None, highlight_scores=None),\n",
       "  Result(url='https://www.wikidata.org/wiki/Wikidata:WikiProject_Schemas', id='https://www.wikidata.org/wiki/Wikidata:WikiProject_Schemas', title='Wikidata:WikiProject Schemas', score=0.12251263111829758, published_date='2022-12-07', author=None, text=None, highlights=None, highlight_scores=None),\n",
       "  Result(url='https://query.wikidata.org/', id='https://query.wikidata.org/?query=', title='Explorer', score=0.12232863903045654, published_date=None, author=None, text=None, highlights=None, highlight_scores=None),\n",
       "  Result(url='https://phabricator.wikimedia.org/transactions/detail/PHID-XACT-TASK-vrsvki5whap3gfu/', id='https://phabricator.wikimedia.org/transactions/detail/PHID-XACT-TASK-vrsvki5whap3gfu/', title='Change Details', score=0.12030459940433502, published_date=None, author=None, text=None, highlights=None, highlight_scores=None),\n",
       "  Result(url='https://gaia.aip.de/query/', id='https://gaia.aip.de/query/', title='Gaia@AIP', score=0.11976280063390732, published_date='2000-01-01', author=None, text=None, highlights=None, highlight_scores=None)],\n",
       " 'autoprompt_string': None}"
      ]
     },
     "execution_count": 10,
     "metadata": {},
     "output_type": "execute_result"
    }
   ],
   "source": [
    "results.__dict__"
   ]
  },
  {
   "cell_type": "code",
   "execution_count": null,
   "metadata": {},
   "outputs": [],
   "source": []
  }
 ],
 "metadata": {
  "kernelspec": {
   "display_name": "base",
   "language": "python",
   "name": "python3"
  },
  "language_info": {
   "codemirror_mode": {
    "name": "ipython",
    "version": 3
   },
   "file_extension": ".py",
   "mimetype": "text/x-python",
   "name": "python",
   "nbconvert_exporter": "python",
   "pygments_lexer": "ipython3",
   "version": "3.11.7"
  }
 },
 "nbformat": 4,
 "nbformat_minor": 2
}
